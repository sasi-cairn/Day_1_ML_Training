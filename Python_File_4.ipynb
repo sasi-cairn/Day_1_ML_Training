{
 "cells": [
  {
   "cell_type": "markdown",
   "metadata": {},
   "source": [
    "# enumerate() Function"
   ]
  },
  {
   "cell_type": "code",
   "execution_count": 6,
   "metadata": {},
   "outputs": [
    {
     "name": "stdout",
     "output_type": "stream",
     "text": [
      "0 Apple\n",
      "1 Orange\n",
      "2 Banana\n"
     ]
    }
   ],
   "source": [
    "list_5 = [\"Apple\",\"Orange\",\"Banana\"]\n",
    "for index,value in enumerate(list_5):\n",
    "    print(index,value)"
   ]
  },
  {
   "cell_type": "code",
   "execution_count": 7,
   "metadata": {},
   "outputs": [
    {
     "name": "stdout",
     "output_type": "stream",
     "text": [
      "100 Apple\n",
      "101 Orange\n",
      "102 Banana\n"
     ]
    }
   ],
   "source": [
    "list_5 = [\"Apple\",\"Orange\",\"Banana\"]\n",
    "for index,value in enumerate(list_5,100):\n",
    "    print(index,value)"
   ]
  },
  {
   "cell_type": "code",
   "execution_count": 8,
   "metadata": {},
   "outputs": [
    {
     "name": "stdout",
     "output_type": "stream",
     "text": [
      "{0: 'P', 1: 'y', 2: 't', 3: 'h', 4: 'o', 5: 'n'}\n"
     ]
    }
   ],
   "source": [
    "str_1 = \"Python\"\n",
    "dict_2 = {}\n",
    "\n",
    "for index,char in enumerate(str_1):\n",
    "    dict_1.update({index:char})\n",
    "print(dict_1)"
   ]
  },
  {
   "cell_type": "markdown",
   "metadata": {},
   "source": [
    "# map() Function"
   ]
  },
  {
   "cell_type": "code",
   "execution_count": 10,
   "metadata": {},
   "outputs": [
    {
     "name": "stdout",
     "output_type": "stream",
     "text": [
      "5\n",
      "6\n",
      "6\n"
     ]
    }
   ],
   "source": [
    "def myfunc(n):\n",
    "    return len(n)\n",
    "\n",
    "x = list(map(myfunc, (\"Apple\",\"Orange\",\"Python\")))\n",
    "for elem in x:\n",
    "    print(elem)"
   ]
  },
  {
   "cell_type": "code",
   "execution_count": 11,
   "metadata": {},
   "outputs": [
    {
     "data": {
      "text/plain": [
       "[36, 49, 64]"
      ]
     },
     "execution_count": 11,
     "metadata": {},
     "output_type": "execute_result"
    }
   ],
   "source": [
    "list_num = [6,7,8]\n",
    "list(map(lambda x: x**2, list_num))"
   ]
  },
  {
   "cell_type": "markdown",
   "metadata": {},
   "source": [
    "# slice() Function"
   ]
  },
  {
   "cell_type": "code",
   "execution_count": 12,
   "metadata": {},
   "outputs": [
    {
     "name": "stdout",
     "output_type": "stream",
     "text": [
      "['A', 'l', 'p', 'h', 'a', 'b', 'e', 't']\n",
      "['A', 'l', 'p', 'h', 'a']\n",
      "['l', 'h']\n"
     ]
    }
   ],
   "source": [
    "list_char = list(\"Alphabet\")\n",
    "print(list_char)\n",
    "slice_1 = slice(5)\n",
    "slice_2 = slice(1,5,2)\n",
    "print(list_char[slice_1])\n",
    "print(list_char[slice_2])"
   ]
  },
  {
   "cell_type": "markdown",
   "metadata": {},
   "source": [
    "# reversed() Function"
   ]
  },
  {
   "cell_type": "code",
   "execution_count": 13,
   "metadata": {},
   "outputs": [
    {
     "name": "stdout",
     "output_type": "stream",
     "text": [
      "t\n",
      "e\n",
      "b\n",
      "a\n",
      "h\n",
      "p\n",
      "l\n",
      "A\n"
     ]
    }
   ],
   "source": [
    "list_rev = \"Alphabet\"\n",
    "rev_list = reversed(list_rev)\n",
    "for char in rev_list:\n",
    "    print(char)"
   ]
  },
  {
   "cell_type": "markdown",
   "metadata": {},
   "source": [
    "# sorted() Function"
   ]
  },
  {
   "cell_type": "code",
   "execution_count": 14,
   "metadata": {},
   "outputs": [
    {
     "name": "stdout",
     "output_type": "stream",
     "text": [
      " \n",
      "A\n",
      "G\n",
      "a\n",
      "b\n",
      "e\n",
      "e\n",
      "g\n",
      "h\n",
      "l\n",
      "l\n",
      "o\n",
      "o\n",
      "p\n",
      "t\n"
     ]
    }
   ],
   "source": [
    "list_rev = \"Alphabet Google\"\n",
    "rev_list = sorted(list_rev)\n",
    "for char in rev_list:\n",
    "    print(char)"
   ]
  },
  {
   "cell_type": "markdown",
   "metadata": {},
   "source": [
    "# zip() Function"
   ]
  },
  {
   "cell_type": "code",
   "execution_count": 15,
   "metadata": {},
   "outputs": [
    {
     "name": "stdout",
     "output_type": "stream",
     "text": [
      "('Hello', 'World')\n",
      "('Intro', 'Python')\n"
     ]
    }
   ],
   "source": [
    "a = (\"Hello\",\"Intro\")\n",
    "b = (\"World\",\"Python\",\"basics\")\n",
    "x = zip(a,b)\n",
    "for val in x:\n",
    "    print(val)"
   ]
  },
  {
   "cell_type": "code",
   "execution_count": null,
   "metadata": {},
   "outputs": [],
   "source": [
    "a = (\"Hello\",\"Intro\")\n",
    "b = (\"World\",\"Python\",\"basics\")\n",
    "x = list(zip(a,b))\n",
    "print(x)"
   ]
  },
  {
   "cell_type": "markdown",
   "metadata": {},
   "source": [
    "# List Comprehension"
   ]
  },
  {
   "cell_type": "code",
   "execution_count": null,
   "metadata": {},
   "outputs": [],
   "source": [
    "x = [(x,y) for x in [1,2,3] for y in [5,6,7] if x != y]\n",
    "print(x)"
   ]
  },
  {
   "cell_type": "code",
   "execution_count": null,
   "metadata": {},
   "outputs": [],
   "source": [
    "x1 = [1,5,8]\n",
    "[val+2 for val in x1]"
   ]
  },
  {
   "cell_type": "code",
   "execution_count": null,
   "metadata": {},
   "outputs": [],
   "source": [
    "x2 = [1,4,8,11]\n",
    "[val for val in x2 if val%2 == 0]"
   ]
  },
  {
   "cell_type": "code",
   "execution_count": null,
   "metadata": {},
   "outputs": [],
   "source": [
    "x = [1,5,7]\n",
    "y = [4,6,7]\n",
    "[sum(val) for val in zip(x,y)]"
   ]
  },
  {
   "cell_type": "code",
   "execution_count": null,
   "metadata": {},
   "outputs": [],
   "source": [
    "x = [1,5,7]\n",
    "y = [4,6,7]\n",
    "[val+val1 for val in x for val1 in y]"
   ]
  },
  {
   "cell_type": "code",
   "execution_count": null,
   "metadata": {},
   "outputs": [],
   "source": []
  },
  {
   "cell_type": "code",
   "execution_count": null,
   "metadata": {},
   "outputs": [],
   "source": []
  }
 ],
 "metadata": {
  "kernelspec": {
   "display_name": "Python 3 (ipykernel)",
   "language": "python",
   "name": "python3"
  },
  "language_info": {
   "codemirror_mode": {
    "name": "ipython",
    "version": 3
   },
   "file_extension": ".py",
   "mimetype": "text/x-python",
   "name": "python",
   "nbconvert_exporter": "python",
   "pygments_lexer": "ipython3",
   "version": "3.10.8"
  }
 },
 "nbformat": 4,
 "nbformat_minor": 2
}
