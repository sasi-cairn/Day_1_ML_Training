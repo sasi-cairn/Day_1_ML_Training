{
 "cells": [
  {
   "cell_type": "code",
   "execution_count": 1,
   "metadata": {},
   "outputs": [
    {
     "name": "stdout",
     "output_type": "stream",
     "text": [
      "[1, 's', 'Python', 3.0, True]\n"
     ]
    }
   ],
   "source": [
    "list1 = [1, 's', \"Python\", 3.0, True]\n",
    "print(list1)"
   ]
  },
  {
   "cell_type": "code",
   "execution_count": 2,
   "metadata": {},
   "outputs": [
    {
     "name": "stdout",
     "output_type": "stream",
     "text": [
      "[1, 3, 5, 7, 9]\n",
      "[]\n",
      "[]\n"
     ]
    }
   ],
   "source": [
    "generateList = list(range(1,10,2))\n",
    "print(generateList)\n",
    "emptyList = list()\n",
    "emptyList1 = []\n",
    "print(emptyList)\n",
    "print(emptyList1)"
   ]
  },
  {
   "cell_type": "code",
   "execution_count": 3,
   "metadata": {},
   "outputs": [
    {
     "name": "stdout",
     "output_type": "stream",
     "text": [
      "('Bootcamp', 10, True)\n"
     ]
    }
   ],
   "source": [
    "range_tuple = (\"Bootcamp\",10,True)\n",
    "print(range_tuple)"
   ]
  },
  {
   "cell_type": "code",
   "execution_count": 4,
   "metadata": {},
   "outputs": [
    {
     "name": "stdout",
     "output_type": "stream",
     "text": [
      "<built-in method keys of dict object at 0x0000026759677500>\n"
     ]
    }
   ],
   "source": [
    "dict = {\"Name\":\"Sasi\", 2:\"sasi\"}\n",
    "print(dict.keys)"
   ]
  },
  {
   "cell_type": "code",
   "execution_count": 5,
   "metadata": {},
   "outputs": [
    {
     "name": "stdout",
     "output_type": "stream",
     "text": [
      "0 Name\n",
      "1 2\n"
     ]
    }
   ],
   "source": [
    "for (key, value) in enumerate(dict):\n",
    "    print(key, value)"
   ]
  },
  {
   "cell_type": "code",
   "execution_count": 6,
   "metadata": {},
   "outputs": [
    {
     "name": "stdout",
     "output_type": "stream",
     "text": [
      "{1, 2}\n"
     ]
    }
   ],
   "source": [
    "ex_list = [1,1,1,1,1,2,2,2]\n",
    "ex_list1 = [6,5,4,6]\n",
    "print(set(ex_list))"
   ]
  },
  {
   "cell_type": "code",
   "execution_count": 7,
   "metadata": {},
   "outputs": [
    {
     "name": "stdout",
     "output_type": "stream",
     "text": [
      "{1, 2, 3}\n"
     ]
    }
   ],
   "source": [
    "set1 = set([1,2,3])\n",
    "print(set1)"
   ]
  },
  {
   "cell_type": "code",
   "execution_count": 8,
   "metadata": {},
   "outputs": [
    {
     "name": "stdout",
     "output_type": "stream",
     "text": [
      "{1, 2, 3, 4, 5, 6, 7, 8}\n",
      "{1, 2, 3, 4, 5, 6, 7, 8}\n"
     ]
    }
   ],
   "source": [
    "A = {1,2,3,4,5}\n",
    "B = {4,5,6,7,8}\n",
    "print(A|B)\n",
    "print(A.union(B))"
   ]
  },
  {
   "cell_type": "code",
   "execution_count": 9,
   "metadata": {},
   "outputs": [
    {
     "name": "stdout",
     "output_type": "stream",
     "text": [
      "1\n"
     ]
    }
   ],
   "source": [
    "a = ex_list.pop(1)\n",
    "print(a)"
   ]
  },
  {
   "cell_type": "code",
   "execution_count": 10,
   "metadata": {},
   "outputs": [
    {
     "data": {
      "text/plain": [
       "[1, 1, 1, 1, 2, 2, 2, [6, 5, 4, 6]]"
      ]
     },
     "execution_count": 10,
     "metadata": {},
     "output_type": "execute_result"
    }
   ],
   "source": [
    "ex_list.append(ex_list1)\n",
    "ex_list"
   ]
  },
  {
   "cell_type": "code",
   "execution_count": 11,
   "metadata": {},
   "outputs": [
    {
     "data": {
      "text/plain": [
       "5"
      ]
     },
     "execution_count": 11,
     "metadata": {},
     "output_type": "execute_result"
    }
   ],
   "source": [
    "ex_list[7][1]"
   ]
  },
  {
   "cell_type": "code",
   "execution_count": 12,
   "metadata": {},
   "outputs": [
    {
     "name": "stdout",
     "output_type": "stream",
     "text": [
      "Enter your List Elements: 342525\n",
      "['3', '4', '2', '5', '2', '5']\n"
     ]
    }
   ],
   "source": [
    "list_input = list(input(\"Enter your List Elements: \"))\n",
    "print(list_input)"
   ]
  },
  {
   "cell_type": "code",
   "execution_count": 35,
   "metadata": {},
   "outputs": [
    {
     "name": "stdout",
     "output_type": "stream",
     "text": [
      "Enter number: 3\n",
      "Enter number: 56\n",
      "Enter number: 3\n",
      "Enter number: 5\n",
      "Enter number: 5\n",
      "Enter the number to check in the list: 5\n",
      "Number is present\n"
     ]
    }
   ],
   "source": [
    "list_input1 = []\n",
    "for _ in range(0,5):\n",
    "    list_input1.append(int(input(\"Enter number: \")))\n",
    "num = int(input(\"Enter the number to check in the list: \"))\n",
    "if num in list_input1:\n",
    "    print(\"Number is present\")\n",
    "else:\n",
    "    print(\"Number is not present\")"
   ]
  },
  {
   "cell_type": "code",
   "execution_count": 1,
   "metadata": {},
   "outputs": [
    {
     "name": "stdout",
     "output_type": "stream",
     "text": [
      "Enter Number: 3\n",
      "Enter Number: 42\n",
      "Enter Number: 424\n",
      "Enter Number: 42\n",
      "Enter Number: 32\n",
      "Enter Number: 24\n",
      "['Odd', 'Even', 'Even', 'Even', 'Even', 'Even']\n"
     ]
    }
   ],
   "source": [
    "even_odd_input = []\n",
    "for _ in range(6):\n",
    "    num = int(input(\"Enter Number: \"))\n",
    "    if num%2 == 0:\n",
    "        even_odd_input.append(\"Even\")\n",
    "    else:\n",
    "        even_odd_input.append(\"Odd\")\n",
    "print(even_odd_input)\n",
    "    "
   ]
  },
  {
   "cell_type": "code",
   "execution_count": 6,
   "metadata": {},
   "outputs": [
    {
     "name": "stdout",
     "output_type": "stream",
     "text": [
      "Enter your number: 4\n",
      "Enter your number: -5\n",
      "Enter your number: -8\n",
      "Enter your number: 1\n",
      "Enter your number: 7\n",
      "Enter your number: 3\n",
      "Enter your number: 4\n",
      "Enter your number: 9\n",
      "Enter your number: 0\n",
      "Enter your number: 0\n",
      "{'Pos': 6, 'Neg': 2, 'odd': 5, 'even': 3, 'zero': 2}\n"
     ]
    }
   ],
   "source": [
    "count_of_num = {\"Pos\":0, \"Neg\":0, \"odd\":0, \"even\":0, \"zero\":0}\n",
    "for _ in range(10):\n",
    "    num = int(input(\"Enter your number: \"))\n",
    "    if num == 0:\n",
    "        count_of_num[\"zero\"]+=1\n",
    "    elif num > 0:\n",
    "        count_of_num[\"Pos\"]+=1\n",
    "        if num%2 == 0:\n",
    "            count_of_num[\"even\"]+=1\n",
    "        else:\n",
    "            count_of_num[\"odd\"]+=1\n",
    "    elif num < 0:\n",
    "        count_of_num[\"Neg\"]+=1\n",
    "        if num%2 == 0:\n",
    "            count_of_num[\"even\"]+=1\n",
    "        else:\n",
    "            count_of_num[\"odd\"]+=1\n",
    "print(count_of_num) \n",
    "    "
   ]
  },
  {
   "cell_type": "code",
   "execution_count": 9,
   "metadata": {},
   "outputs": [
    {
     "name": "stdout",
     "output_type": "stream",
     "text": [
      "Enter your Number: 4\n",
      "Enter your Number: 4\n",
      "Enter your Number: 5\n",
      "Enter your Number: 6\n",
      "Enter your Number: 6\n",
      "{4, 5, 6}\n"
     ]
    }
   ],
   "source": [
    "set_exp = []\n",
    "for _ in range(5):\n",
    "    set_exp.append(int(input(\"Enter your Number: \")))\n",
    "print(set(set_exp))"
   ]
  },
  {
   "cell_type": "code",
   "execution_count": 19,
   "metadata": {},
   "outputs": [
    {
     "data": {
      "text/plain": [
       "{'e': 4, 'u': 4, 'a': 4, 'i': 4, 'o': 4}"
      ]
     },
     "execution_count": 19,
     "metadata": {},
     "output_type": "execute_result"
    }
   ],
   "source": [
    "d_2 = {}\n",
    "keys = {\"a\",\"e\",\"i\",\"o\",\"u\"}\n",
    "value = 4\n",
    "d_2.fromkeys(keys,value)"
   ]
  },
  {
   "cell_type": "code",
   "execution_count": 20,
   "metadata": {},
   "outputs": [
    {
     "name": "stdout",
     "output_type": "stream",
     "text": [
      "{1: 'one', 2: 'two', 3: 'three', 4: 'four', 5: 'five'}\n"
     ]
    }
   ],
   "source": [
    "list1 = [1,2,3,4,5]\n",
    "list2 = [\"one\",\"two\",\"three\",\"four\",\"five\"]\n",
    "print(dict(zip(list1,list2)))"
   ]
  },
  {
   "cell_type": "code",
   "execution_count": 21,
   "metadata": {},
   "outputs": [
    {
     "name": "stdout",
     "output_type": "stream",
     "text": [
      "[(1, 'one'), (2, 'two'), (3, 'three'), (4, 'four'), (5, 'five')]\n"
     ]
    }
   ],
   "source": [
    "list3 = list(zip(list1,list2))\n",
    "print(list3)"
   ]
  },
  {
   "cell_type": "code",
   "execution_count": 25,
   "metadata": {},
   "outputs": [
    {
     "name": "stdout",
     "output_type": "stream",
     "text": [
      "None\n"
     ]
    }
   ],
   "source": [
    "dict_list = {\"Pos\":0, \"Neg\":0, \"odd\":0, \"even\":0, \"zero\":0}\n",
    "print(dict_list.get(\"ioh\"))"
   ]
  },
  {
   "cell_type": "code",
   "execution_count": 26,
   "metadata": {},
   "outputs": [
    {
     "data": {
      "text/plain": [
       "dict_items([('Pos', 0), ('Neg', 0), ('odd', 0), ('even', 0), ('zero', 0)])"
      ]
     },
     "execution_count": 26,
     "metadata": {},
     "output_type": "execute_result"
    }
   ],
   "source": [
    "dict_list.items()"
   ]
  },
  {
   "cell_type": "code",
   "execution_count": 31,
   "metadata": {},
   "outputs": [
    {
     "name": "stdout",
     "output_type": "stream",
     "text": [
      "{'Pos': 0, 'Neg': 0, 'odd': 0, 'even': 0, 'zero': 0, 'name:': 'Sasi', 'name': 'Sasi'}\n",
      "{'Pos': 0, 'Neg': 0, 'odd': 0, 'even': 0, 'zero': 0, 'name:': 'Sasi', 'name': 'sasikumar'}\n"
     ]
    }
   ],
   "source": [
    "dict_list.update({\"name\":\"Sasi\"})\n",
    "print(dict_list)\n",
    "dict_list.update({\"name\":\"sasikumar\"})\n",
    "print(dict_list)"
   ]
  },
  {
   "cell_type": "code",
   "execution_count": 36,
   "metadata": {},
   "outputs": [
    {
     "name": "stdout",
     "output_type": "stream",
     "text": [
      "Enter your number: 24\n",
      "Enter your number: 55\n",
      "Enter your number: 34\n",
      "Enter your number: 77\n",
      "{'A': 24, 'C': 34}\n"
     ]
    }
   ],
   "source": [
    "even_dict = {}\n",
    "char_range = [\"A\",\"B\",\"C\",\"D\"]\n",
    "for chara in char_range:\n",
    "    num = int(input(\"Enter your number: \"))\n",
    "    if num%2==0:\n",
    "        even_dict[chara] = num\n",
    "print(even_dict)"
   ]
  },
  {
   "cell_type": "code",
   "execution_count": 40,
   "metadata": {},
   "outputs": [
    {
     "name": "stdout",
     "output_type": "stream",
     "text": [
      "Enter no of items: 5\n",
      "{'1': 1, '2': 4, '3': 9, '4': 16, '5': 25}\n"
     ]
    }
   ],
   "source": [
    "sqr_dict = {}\n",
    "no_of_item = int(input(\"Enter no of items: \"))\n",
    "for num in range(1,no_of_item+1):\n",
    "    sqr_dict[str(num)] = num**2\n",
    "print(sqr_dict)\n"
   ]
  },
  {
   "cell_type": "code",
   "execution_count": 46,
   "metadata": {},
   "outputs": [
    {
     "name": "stdout",
     "output_type": "stream",
     "text": [
      "{'7_not_5': [2002, 2009, 2016, 2023, 2037, 2044, 2051, 2058, 2072, 2079, 2086, 2093], '9_not_5': [2008, 2024, 2032, 2048, 2056, 2064, 2088, 2096]}\n"
     ]
    }
   ],
   "source": [
    "divi_dict = {}\n",
    "seven_list = []\n",
    "nine_list = []\n",
    "for num in range(2000,2100):\n",
    "    if num%7 == 0 and num%5 != 0:\n",
    "        seven_list.append(num)\n",
    "        divi_dict.update({\"7_not_5\":seven_list})\n",
    "    elif num%8 == 0 and num%5 !=0:\n",
    "        nine_list.append(num)\n",
    "        divi_dict.update({\"9_not_5\":nine_list})\n",
    "print(divi_dict)"
   ]
  },
  {
   "cell_type": "code",
   "execution_count": 16,
   "metadata": {},
   "outputs": [],
   "source": [
    "def my_func():\n",
    "    print(\"Hello, Welcome to Python\")"
   ]
  },
  {
   "cell_type": "code",
   "execution_count": 17,
   "metadata": {},
   "outputs": [
    {
     "name": "stdout",
     "output_type": "stream",
     "text": [
      "Hello, Welcome to Python\n"
     ]
    }
   ],
   "source": [
    "my_func()"
   ]
  },
  {
   "cell_type": "code",
   "execution_count": 18,
   "metadata": {},
   "outputs": [],
   "source": [
    "def my_func(fname):\n",
    "    print(\"Hello, Welcome to Python Learning \" + fname)"
   ]
  },
  {
   "cell_type": "code",
   "execution_count": 19,
   "metadata": {},
   "outputs": [
    {
     "name": "stdout",
     "output_type": "stream",
     "text": [
      "Hello, Welcome to Python Learning Sasi\n"
     ]
    }
   ],
   "source": [
    "my_func(\"Sasi\")"
   ]
  },
  {
   "cell_type": "code",
   "execution_count": 22,
   "metadata": {},
   "outputs": [],
   "source": [
    "def my_func(fname, lname):\n",
    "    print(\"Hello, Welcome to Python Learning \" + fname + \" \" + lname)"
   ]
  },
  {
   "cell_type": "code",
   "execution_count": 23,
   "metadata": {},
   "outputs": [
    {
     "name": "stdout",
     "output_type": "stream",
     "text": [
      "Hello, Welcome to Python Learning Sasikumar Krishnan\n"
     ]
    }
   ],
   "source": [
    "my_func(\"Sasikumar\", \"Krishnan\")"
   ]
  },
  {
   "cell_type": "code",
   "execution_count": 24,
   "metadata": {},
   "outputs": [],
   "source": [
    "def my_func(fname, country = \"India\", num = 56):\n",
    "    print(\"Hello, Welcome to \" + country + \" \" + fname + \" \" + str(num))"
   ]
  },
  {
   "cell_type": "code",
   "execution_count": 25,
   "metadata": {},
   "outputs": [
    {
     "name": "stdout",
     "output_type": "stream",
     "text": [
      "Hello, Welcome to India Sasi 56\n"
     ]
    }
   ],
   "source": [
    "my_func(\"Sasi\")"
   ]
  },
  {
   "cell_type": "code",
   "execution_count": 26,
   "metadata": {},
   "outputs": [
    {
     "name": "stdout",
     "output_type": "stream",
     "text": [
      "Hello, Welcome to Gurgaon Sasikumar 56\n"
     ]
    }
   ],
   "source": [
    "my_func(\"Sasikumar\", \"Gurgaon\")"
   ]
  },
  {
   "cell_type": "code",
   "execution_count": 27,
   "metadata": {},
   "outputs": [
    {
     "name": "stdout",
     "output_type": "stream",
     "text": [
      "9\n"
     ]
    }
   ],
   "source": [
    "def my_func(num):\n",
    "    return 3*num\n",
    "print(my_func(3))"
   ]
  },
  {
   "cell_type": "code",
   "execution_count": 28,
   "metadata": {},
   "outputs": [
    {
     "name": "stdout",
     "output_type": "stream",
     "text": [
      "94\n"
     ]
    }
   ],
   "source": [
    "x = lambda a, b, c : a**2 + b**2 + c**2\n",
    "print(x(2,3,9))"
   ]
  },
  {
   "cell_type": "code",
   "execution_count": 29,
   "metadata": {},
   "outputs": [
    {
     "name": "stdout",
     "output_type": "stream",
     "text": [
      "5\n"
     ]
    }
   ],
   "source": [
    "x = lambda a, b : a+b\n",
    "print(x(3,2))"
   ]
  },
  {
   "cell_type": "code",
   "execution_count": 31,
   "metadata": {},
   "outputs": [
    {
     "name": "stdout",
     "output_type": "stream",
     "text": [
      "Enter your number: 4\n",
      "[1, 4, 9, 16]\n"
     ]
    }
   ],
   "source": [
    "num = int(input(\"Enter your number: \"))\n",
    "def sqr_no(num):\n",
    "    return list(no**2 for no in range(1,num+1))\n",
    "print(sqr_no(num))"
   ]
  },
  {
   "cell_type": "code",
   "execution_count": 2,
   "metadata": {},
   "outputs": [],
   "source": [
    "dict1 = {}\n",
    "x = [\"A\",\"B\",\"C\",\"D\",\"A\",\"B\",\"E\"]\n",
    "for elem in x:\n",
    "    dict1.update({elem:dict1.get(elem,0)+1})"
   ]
  },
  {
   "cell_type": "code",
   "execution_count": 3,
   "metadata": {},
   "outputs": [
    {
     "data": {
      "text/plain": [
       "{'A': 2, 'B': 2, 'C': 1, 'D': 1, 'E': 1}"
      ]
     },
     "execution_count": 3,
     "metadata": {},
     "output_type": "execute_result"
    }
   ],
   "source": [
    "dict1"
   ]
  },
  {
   "cell_type": "code",
   "execution_count": null,
   "metadata": {},
   "outputs": [],
   "source": []
  }
 ],
 "metadata": {
  "kernelspec": {
   "display_name": "Python 3 (ipykernel)",
   "language": "python",
   "name": "python3"
  },
  "language_info": {
   "codemirror_mode": {
    "name": "ipython",
    "version": 3
   },
   "file_extension": ".py",
   "mimetype": "text/x-python",
   "name": "python",
   "nbconvert_exporter": "python",
   "pygments_lexer": "ipython3",
   "version": "3.10.8"
  }
 },
 "nbformat": 4,
 "nbformat_minor": 2
}
