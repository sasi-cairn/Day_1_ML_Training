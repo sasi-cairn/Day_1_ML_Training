{
 "cells": [
  {
   "cell_type": "markdown",
   "id": "72cc9039",
   "metadata": {},
   "source": [
    "### 3.1 Basic Python"
   ]
  },
  {
   "cell_type": "markdown",
   "id": "a3730a0d",
   "metadata": {},
   "source": [
    "#### 3.1.1 Variable Declaration and Data Type\n",
    "\n",
    "   Variables are placeholders for the value. You use the variable name to access the values stored.\n",
    "\n",
    "   The Data type defines the nature of the data that is stored in the variable"
   ]
  },
  {
   "cell_type": "code",
   "execution_count": 1,
   "id": "bdda0af6",
   "metadata": {},
   "outputs": [
    {
     "name": "stdout",
     "output_type": "stream",
     "text": [
      "Hey i'm a 3000 and my data type is <class 'int'>\n",
      "Hey i'm a 31313.313 and my data type is <class 'float'>\n",
      "Hey! It's me and i'm a <class 'str'>\n",
      "you have changed my datatype to <class 'list'>\n",
      "Again! you have changed me to <class 'dict'>\n",
      "This is True and my data type is <class 'bool'>\n"
     ]
    }
   ],
   "source": [
    "x = 3000\n",
    "print(\"Hey i'm a {} and my data type is {}\".format(x, type(x)))\n",
    "\n",
    "decimal = 31313.313\n",
    "print(\"Hey i'm a {} and my data type is {}\".format(decimal, type(decimal)))\n",
    "\n",
    "cairn = \"Hey! It's me\"\n",
    "print(\"{} and i'm a {}\".format(cairn, type(cairn)))\n",
    "\n",
    "cairn = [1,2,'apple','orange',4.4]\n",
    "print('you have changed my datatype to {}'.format(type(cairn)))\n",
    "\n",
    "cairn = {1:\"one\", 2:\"two\", \"3\":\"three\"}\n",
    "print('Again! you have changed me to {}'.format(type(cairn)))\n",
    "\n",
    "boolean_example = True\n",
    "print(\"This is {} and my data type is {}\".format(boolean_example, type(boolean_example)))"
   ]
  },
  {
   "cell_type": "markdown",
   "id": "01b323bc",
   "metadata": {},
   "source": [
    "#### 3.1.2 Opearators\n",
    "\n",
    "   Opeartors allows you to perform opeartions between two variables"
   ]
  },
  {
   "cell_type": "code",
   "execution_count": 2,
   "id": "ed732b9d",
   "metadata": {},
   "outputs": [
    {
     "name": "stdout",
     "output_type": "stream",
     "text": [
      "Addtion example: 15\n",
      "Getting remainder example: 2\n",
      "Rounding off example: 2\n",
      "is 5 greater than 10: False\n"
     ]
    }
   ],
   "source": [
    "# Arthimetic Operators - Add, Subtract, Multiply, division, modules, exponent, floor\n",
    "\n",
    "variable_1 = 5\n",
    "variable_2 = 10\n",
    "\n",
    "add = variable_1 + variable_2\n",
    "print(\"Addtion example: {}\".format(add))\n",
    "\n",
    "modules = 50%3\n",
    "print(\"Getting remainder example: {}\".format(modules))\n",
    "\n",
    "floor = 5//2\n",
    "print(\"Rounding off example: {}\".format(floor))\n",
    "\n",
    "# Comparison Operator \n",
    "\n",
    "print(\"is {} greater than {}: {}\".format(variable_1, variable_2, variable_1>variable_2))\n",
    "\n",
    "# Logical Opearator - and, or and not\n",
    "\n",
    "# Membership Opeartor - in, not in\n",
    "\n",
    "# Bitwise Opeartor - &, |, ~ "
   ]
  },
  {
   "cell_type": "markdown",
   "id": "66ac5236",
   "metadata": {},
   "source": [
    "#### 3.1.3 Functions\n",
    "\n",
    "   Functions (also sometimes called 'methods') is a small piece of program that is built to solve a small part of the big problem"
   ]
  },
  {
   "cell_type": "code",
   "execution_count": 4,
   "id": "8f8948d1",
   "metadata": {},
   "outputs": [
    {
     "name": "stdout",
     "output_type": "stream",
     "text": [
      "['C', 'a', 'i', 'r', 'n', ' ', 'O', 'i', 'l', ' ', '&', ' ', 'G', 'a', 's']\n",
      "I can create my own fucntion\n",
      "(15, 5, 50)\n"
     ]
    }
   ],
   "source": [
    "# Built-in functions\n",
    "    \n",
    "creating_list = list('Cairn Oil & Gas')\n",
    "\n",
    "print(creating_list)\n",
    "\n",
    "# User defined functions \n",
    "\n",
    "def my_function():\n",
    "    print('I can create my own fucntion')\n",
    "    \n",
    "def func_with_parameters(a, b):\n",
    "    addition = a + b\n",
    "    subtraction = a-b\n",
    "    multiply = a*b\n",
    "    return(addition, subtraction, multiply)\n",
    "\n",
    "\n",
    "my_function()\n",
    "output = func_with_parameters(10, 5)\n",
    "print(output)"
   ]
  },
  {
   "cell_type": "code",
   "execution_count": 49,
   "id": "0259e4f1",
   "metadata": {},
   "outputs": [
    {
     "name": "stdout",
     "output_type": "stream",
     "text": [
      "15\n"
     ]
    }
   ],
   "source": [
    "# A lambda function that adds 10 to the number passed in as an argument, and print the result:\n",
    "\n",
    "x = lambda a : a + 10\n",
    "\n",
    "print(x(5))"
   ]
  },
  {
   "cell_type": "code",
   "execution_count": 48,
   "id": "511759d8",
   "metadata": {},
   "outputs": [
    {
     "name": "stdout",
     "output_type": "stream",
     "text": [
      "30\n"
     ]
    }
   ],
   "source": [
    "# A lambda function that multiplies argument a with argument b and print the result:\n",
    "\n",
    "x = lambda a, b : a * b\n",
    "print(x(5, 6))"
   ]
  },
  {
   "cell_type": "code",
   "execution_count": 50,
   "id": "d65363de",
   "metadata": {},
   "outputs": [
    {
     "name": "stdout",
     "output_type": "stream",
     "text": [
      "13\n"
     ]
    }
   ],
   "source": [
    "x = lambda a, b, c : a + b + c\n",
    "print(x(5, 6, 2))"
   ]
  },
  {
   "cell_type": "markdown",
   "id": "3503bb73",
   "metadata": {},
   "source": [
    "#### 3.1.4 Control Statements\n",
    "\n",
    "   Control statements help to design the flow of the logic. It places conditions, continously iterate to generate the values  etc."
   ]
  },
  {
   "cell_type": "code",
   "execution_count": 3,
   "id": "facc1a5f",
   "metadata": {},
   "outputs": [
    {
     "name": "stdout",
     "output_type": "stream",
     "text": [
      "I'm a string\n",
      "I'm a number\n",
      "I'm a string\n",
      "I'm a string\n",
      "[1, 4, 7]\n"
     ]
    }
   ],
   "source": [
    "#Example 1\n",
    "\n",
    "list_1 = ['1',1,'string','one']\n",
    "\n",
    "for element in list_1:\n",
    "    if type(element) is int:\n",
    "        print(\"I'm a number\")\n",
    "    else:\n",
    "        print(\"I'm a string\")\n",
    "        \n",
    "#Example 2\n",
    "\n",
    "empty_list = []\n",
    "for number in range(1,10,3):\n",
    "    empty_list.append(number)\n",
    "print(empty_list)"
   ]
  },
  {
   "cell_type": "markdown",
   "id": "cf97fb9e",
   "metadata": {},
   "source": [
    "#### 3.1.5 Data Structures\n",
    "\n",
    "Python has four basic inbuilt data structures namely Lists, Dictionary, Tuple and Set."
   ]
  },
  {
   "cell_type": "markdown",
   "id": "1f7a3480",
   "metadata": {},
   "source": [
    "<b>3.1.5.a List</b>\n",
    "\n",
    "A list is similar to an array that consists of a group of elements or items. Just like an array, a list can store elements. But, there is one major difference between an array and a list. An array can store only one type of elements whereas a list can store different types of elements. Hence lists are more versatile and useful than an array. Perhaps lists are the most used datatype in Python programs."
   ]
  },
  {
   "cell_type": "code",
   "execution_count": 1,
   "id": "76efc0bd",
   "metadata": {},
   "outputs": [
    {
     "name": "stdout",
     "output_type": "stream",
     "text": [
      "[1, 'a', 'string', 3]\n"
     ]
    }
   ],
   "source": [
    "# A simple list \n",
    "# Declaring a list \n",
    "L = [1, \"a\" , \"string\" , 1+2] \n",
    "print(L)"
   ]
  },
  {
   "cell_type": "code",
   "execution_count": 2,
   "id": "3410884b",
   "metadata": {},
   "outputs": [
    {
     "data": {
      "text/plain": [
       "list"
      ]
     },
     "execution_count": 2,
     "metadata": {},
     "output_type": "execute_result"
    }
   ],
   "source": [
    "type(L)"
   ]
  },
  {
   "cell_type": "markdown",
   "id": "23d81f2e",
   "metadata": {},
   "source": [
    "Creating Lists using range() function\n",
    "\n",
    "range(start, stop, stepsize)"
   ]
  },
  {
   "cell_type": "code",
   "execution_count": 3,
   "id": "1c4358f3",
   "metadata": {},
   "outputs": [
    {
     "name": "stdout",
     "output_type": "stream",
     "text": [
      "[0, 2, 4, 6, 8]\n"
     ]
    }
   ],
   "source": [
    "list_range = list(range(0,10,2))\n",
    "print(list_range)"
   ]
  },
  {
   "cell_type": "code",
   "execution_count": 27,
   "id": "d6af9749",
   "metadata": {},
   "outputs": [],
   "source": [
    "# Lets declare two list \n",
    "\n",
    "list_1 = [1,1,2,2,3,3,4,4]\n",
    "list_2 = [5,5,6,6,7,7,8,8]"
   ]
  },
  {
   "cell_type": "code",
   "execution_count": 30,
   "id": "82db2da6",
   "metadata": {},
   "outputs": [
    {
     "name": "stdout",
     "output_type": "stream",
     "text": [
      "1\n",
      "4\n"
     ]
    }
   ],
   "source": [
    "print(list_1[0])\n",
    "print(list_1.index(3))"
   ]
  },
  {
   "cell_type": "code",
   "execution_count": 31,
   "id": "41c9ee1c",
   "metadata": {},
   "outputs": [
    {
     "data": {
      "text/plain": [
       "[1, 1, 2, 2, 3, 3, 4, 4, 9]"
      ]
     },
     "execution_count": 31,
     "metadata": {},
     "output_type": "execute_result"
    }
   ],
   "source": [
    "# append x in the end of the list\n",
    "# list_name(x)\n",
    "list_1.append(9)\n",
    "list_1"
   ]
  },
  {
   "cell_type": "code",
   "execution_count": 32,
   "id": "8efae34f",
   "metadata": {},
   "outputs": [
    {
     "data": {
      "text/plain": [
       "[1, 1, 2, 10, 2, 3, 3, 4, 4, 9]"
      ]
     },
     "execution_count": 32,
     "metadata": {},
     "output_type": "execute_result"
    }
   ],
   "source": [
    "# inserts x in the position specified by i\n",
    "# list_name(i,x)\n",
    "list_1.insert(3,10)\n",
    "list_1"
   ]
  },
  {
   "cell_type": "code",
   "execution_count": 33,
   "id": "93ff3fe5",
   "metadata": {},
   "outputs": [
    {
     "data": {
      "text/plain": [
       "[1, 1, 2, 10, 2, 3, 3, 4, 4, 9, 5, 5, 6, 6, 7, 7, 8, 8]"
      ]
     },
     "execution_count": 33,
     "metadata": {},
     "output_type": "execute_result"
    }
   ],
   "source": [
    "# appends other list1 to existing list\n",
    "# list.extend(list1)\n",
    "list_1.extend(list_2)\n",
    "list_1"
   ]
  },
  {
   "cell_type": "code",
   "execution_count": 34,
   "id": "d771d1f7",
   "metadata": {},
   "outputs": [
    {
     "data": {
      "text/plain": [
       "[5, 5, 6, 6, 7, 7, 8]"
      ]
     },
     "execution_count": 34,
     "metadata": {},
     "output_type": "execute_result"
    }
   ],
   "source": [
    "# Removes the ending element from the list\n",
    "list_2.pop()\n",
    "list_2"
   ]
  },
  {
   "cell_type": "code",
   "execution_count": 35,
   "id": "6d8f9352",
   "metadata": {},
   "outputs": [
    {
     "data": {
      "text/plain": [
       "[8, 7, 7, 6, 6, 5, 5]"
      ]
     },
     "execution_count": 35,
     "metadata": {},
     "output_type": "execute_result"
    }
   ],
   "source": [
    "# Reverse the sequence of elements in the list\n",
    "list_2.reverse()\n",
    "list_2"
   ]
  },
  {
   "cell_type": "code",
   "execution_count": 36,
   "id": "a4b75351",
   "metadata": {},
   "outputs": [
    {
     "data": {
      "text/plain": [
       "2"
      ]
     },
     "execution_count": 36,
     "metadata": {},
     "output_type": "execute_result"
    }
   ],
   "source": [
    "# Count the occurance of an element in a list\n",
    "list_2.count(5)"
   ]
  },
  {
   "cell_type": "code",
   "execution_count": 37,
   "id": "9cc1c26c",
   "metadata": {},
   "outputs": [
    {
     "data": {
      "text/plain": [
       "[8, 7, 7, 6, 6, 5, 5]"
      ]
     },
     "execution_count": 37,
     "metadata": {},
     "output_type": "execute_result"
    }
   ],
   "source": [
    "list_2.sort(reverse=True)\n",
    "list_2"
   ]
  },
  {
   "cell_type": "markdown",
   "id": "ed1ec464",
   "metadata": {},
   "source": [
    "<b>3.1.5.b Tuples</b>\n",
    "\n",
    "A tuple is a python sequence which stores a group of elements or items. Tuples are similar to lists but the main difference is tuples are immutable whereas lists are mutable. Since tuples are immutable, once we create a tuple we cannot modify its elements."
   ]
  },
  {
   "cell_type": "markdown",
   "id": "2098608e",
   "metadata": {},
   "source": [
    "tup1 = ()"
   ]
  },
  {
   "cell_type": "code",
   "execution_count": 7,
   "id": "4e11fca7",
   "metadata": {},
   "outputs": [
    {
     "ename": "NameError",
     "evalue": "name 'tup1' is not defined",
     "output_type": "error",
     "traceback": [
      "\u001b[1;31m---------------------------------------------------------------------------\u001b[0m",
      "\u001b[1;31mNameError\u001b[0m                                 Traceback (most recent call last)",
      "Cell \u001b[1;32mIn [7], line 1\u001b[0m\n\u001b[1;32m----> 1\u001b[0m \u001b[43mtup1\u001b[49m[\u001b[38;5;241m0\u001b[39m]\n",
      "\u001b[1;31mNameError\u001b[0m: name 'tup1' is not defined"
     ]
    }
   ],
   "source": [
    "tup1[0]"
   ]
  },
  {
   "cell_type": "code",
   "execution_count": 8,
   "id": "46cf3910",
   "metadata": {},
   "outputs": [],
   "source": [
    "tup2 = (10, 20, 'Hyderabad')"
   ]
  },
  {
   "cell_type": "code",
   "execution_count": 9,
   "id": "b1f368b6",
   "metadata": {},
   "outputs": [
    {
     "data": {
      "text/plain": [
       "'Hyderabad'"
      ]
     },
     "execution_count": 9,
     "metadata": {},
     "output_type": "execute_result"
    }
   ],
   "source": [
    "tup2[2]"
   ]
  },
  {
   "cell_type": "markdown",
   "id": "616bd1c2",
   "metadata": {},
   "source": [
    "<b>3.1.5.c Dictionaries</b>\n",
    "\n",
    "A dictionary represents a group of elements arranged in the form of key-value pairs. In the dictionary, the first element is considered as 'key' and the immediate next element is taken as its 'value'. The key and its value is separated by a colon (:).\n",
    "\n",
    "All the key-value pairs in a dictionary are inserted in curly braces {}."
   ]
  },
  {
   "cell_type": "code",
   "execution_count": 10,
   "id": "cb5ad7f2",
   "metadata": {},
   "outputs": [],
   "source": [
    "dict_1 = {'Name': 'Chandra',\n",
    "        'ID': 54321,\n",
    "        'Salary': 12500}"
   ]
  },
  {
   "cell_type": "code",
   "execution_count": 11,
   "id": "191df8dc",
   "metadata": {},
   "outputs": [
    {
     "data": {
      "text/plain": [
       "{'Name': 'Chandra', 'ID': 54321, 'Salary': 12500}"
      ]
     },
     "execution_count": 11,
     "metadata": {},
     "output_type": "execute_result"
    }
   ],
   "source": [
    "dict_1"
   ]
  },
  {
   "cell_type": "code",
   "execution_count": 41,
   "id": "fd2a1b6e",
   "metadata": {},
   "outputs": [
    {
     "data": {
      "text/plain": [
       "'Chandra'"
      ]
     },
     "execution_count": 41,
     "metadata": {},
     "output_type": "execute_result"
    }
   ],
   "source": [
    "# Return the value of key. If key doesnot exit, return d (defaults to None).\n",
    "\n",
    "dict_1.get('Name')"
   ]
  },
  {
   "cell_type": "code",
   "execution_count": 42,
   "id": "3630dd20",
   "metadata": {},
   "outputs": [
    {
     "data": {
      "text/plain": [
       "dict_items([('Name', 'Chandra'), ('ID', 54321), ('Salary', 12500)])"
      ]
     },
     "execution_count": 42,
     "metadata": {},
     "output_type": "execute_result"
    }
   ],
   "source": [
    "#Return a new view of the dictionary's items (key, value).\n",
    "\n",
    "dict_1.items()"
   ]
  },
  {
   "cell_type": "code",
   "execution_count": 43,
   "id": "6bf65fef",
   "metadata": {},
   "outputs": [
    {
     "data": {
      "text/plain": [
       "dict_keys(['Name', 'ID', 'Salary'])"
      ]
     },
     "execution_count": 43,
     "metadata": {},
     "output_type": "execute_result"
    }
   ],
   "source": [
    "#Return a new view of the dictionary's keys.\n",
    "dict_1.keys()"
   ]
  },
  {
   "cell_type": "code",
   "execution_count": 44,
   "id": "69133561",
   "metadata": {},
   "outputs": [
    {
     "data": {
      "text/plain": [
       "dict_values(['Chandra', 54321, 12500])"
      ]
     },
     "execution_count": 44,
     "metadata": {},
     "output_type": "execute_result"
    }
   ],
   "source": [
    "# Return a new view of the dictionary's values\n",
    "dict_1.values()"
   ]
  },
  {
   "cell_type": "code",
   "execution_count": 47,
   "id": "e6826f05",
   "metadata": {},
   "outputs": [
    {
     "data": {
      "text/plain": [
       "{'Name': 'Chandra', 'ID': 54321, 'Salary': 12500, 'C': 431}"
      ]
     },
     "execution_count": 47,
     "metadata": {},
     "output_type": "execute_result"
    }
   ],
   "source": [
    "# Update the dictionary with the key/value pairs from other, overwriting existing keys.\n",
    "\n",
    "dict_1.update({\"C\":431})\n",
    "dict_1"
   ]
  },
  {
   "cell_type": "code",
   "execution_count": 46,
   "id": "4d6f8882",
   "metadata": {},
   "outputs": [
    {
     "name": "stdout",
     "output_type": "stream",
     "text": [
      "Name Chandra\n",
      "ID 54321\n",
      "Salary 12500\n",
      "C 431\n"
     ]
    }
   ],
   "source": [
    "# Iterating over a dictionary\n",
    "for k,v in dict_1.items():\n",
    "    print(k,v)"
   ]
  },
  {
   "cell_type": "markdown",
   "id": "bb13bde0",
   "metadata": {},
   "source": [
    "<b>3.1.5.d Sets</b>\n",
    "\n",
    "A Set is an unordered collection data type that is iterable, mutable and has no duplicate elements. Python’s set class represents the mathematical notion of a set. The major advantage of using a set, as opposed to a list, is that it has a highly optimized method for checking whether a specific element is contained in the set."
   ]
  },
  {
   "cell_type": "code",
   "execution_count": 12,
   "id": "d00549d4",
   "metadata": {},
   "outputs": [
    {
     "name": "stdout",
     "output_type": "stream",
     "text": [
      "Set: \n",
      "{'b', 'c', 'a'}\n"
     ]
    }
   ],
   "source": [
    "# Python program to \n",
    "# demonstrate sets \n",
    "  \n",
    "# Same as {\"a\", \"b\", \"c\"} \n",
    "Set = set([\"a\", \"b\", \"c\"]) \n",
    "  \n",
    "print(\"Set: \") \n",
    "print(Set)"
   ]
  },
  {
   "cell_type": "code",
   "execution_count": 13,
   "id": "00141d73",
   "metadata": {},
   "outputs": [],
   "source": [
    "A = {1, 2, 3, 4, 5}\n",
    "B = {4, 5, 6, 7, 8}"
   ]
  },
  {
   "cell_type": "code",
   "execution_count": 14,
   "id": "a5242cf0",
   "metadata": {},
   "outputs": [
    {
     "name": "stdout",
     "output_type": "stream",
     "text": [
      "{1, 2, 3, 4, 5, 6, 7, 8}\n"
     ]
    }
   ],
   "source": [
    "print(A|B)"
   ]
  },
  {
   "cell_type": "code",
   "execution_count": 15,
   "id": "211c70e0",
   "metadata": {},
   "outputs": [
    {
     "data": {
      "text/plain": [
       "{1, 2, 3, 4, 5, 6, 7, 8}"
      ]
     },
     "execution_count": 15,
     "metadata": {},
     "output_type": "execute_result"
    }
   ],
   "source": [
    "A.union(B)"
   ]
  },
  {
   "cell_type": "code",
   "execution_count": 16,
   "id": "cb7b3288",
   "metadata": {},
   "outputs": [
    {
     "data": {
      "text/plain": [
       "{1, 2, 3, 4, 5, 6, 7, 8}"
      ]
     },
     "execution_count": 16,
     "metadata": {},
     "output_type": "execute_result"
    }
   ],
   "source": [
    "B.union(A)"
   ]
  },
  {
   "cell_type": "code",
   "execution_count": 17,
   "id": "83e3e2e4",
   "metadata": {},
   "outputs": [
    {
     "name": "stdout",
     "output_type": "stream",
     "text": [
      "{4, 5}\n"
     ]
    }
   ],
   "source": [
    "print(A&B)"
   ]
  },
  {
   "cell_type": "code",
   "execution_count": 18,
   "id": "e912f109",
   "metadata": {},
   "outputs": [
    {
     "data": {
      "text/plain": [
       "{4, 5}"
      ]
     },
     "execution_count": 18,
     "metadata": {},
     "output_type": "execute_result"
    }
   ],
   "source": [
    "A.intersection(B)"
   ]
  },
  {
   "cell_type": "code",
   "execution_count": 19,
   "id": "84e5b9be",
   "metadata": {},
   "outputs": [
    {
     "data": {
      "text/plain": [
       "{4, 5}"
      ]
     },
     "execution_count": 19,
     "metadata": {},
     "output_type": "execute_result"
    }
   ],
   "source": [
    "B.intersection(A)"
   ]
  },
  {
   "cell_type": "code",
   "execution_count": 20,
   "id": "a7b584a9",
   "metadata": {},
   "outputs": [
    {
     "name": "stdout",
     "output_type": "stream",
     "text": [
      "{1, 2, 3}\n"
     ]
    }
   ],
   "source": [
    "print(A - B)"
   ]
  },
  {
   "cell_type": "code",
   "execution_count": 21,
   "id": "c87c3a7e",
   "metadata": {},
   "outputs": [
    {
     "name": "stdout",
     "output_type": "stream",
     "text": [
      "{8, 6, 7}\n"
     ]
    }
   ],
   "source": [
    "print(B - A)"
   ]
  },
  {
   "cell_type": "code",
   "execution_count": 22,
   "id": "f2191097",
   "metadata": {},
   "outputs": [
    {
     "data": {
      "text/plain": [
       "{1, 2, 3}"
      ]
     },
     "execution_count": 22,
     "metadata": {},
     "output_type": "execute_result"
    }
   ],
   "source": [
    "A.difference(B)"
   ]
  },
  {
   "cell_type": "code",
   "execution_count": 23,
   "id": "ca3051f3",
   "metadata": {},
   "outputs": [
    {
     "data": {
      "text/plain": [
       "{6, 7, 8}"
      ]
     },
     "execution_count": 23,
     "metadata": {},
     "output_type": "execute_result"
    }
   ],
   "source": [
    "B.difference(A)"
   ]
  },
  {
   "cell_type": "code",
   "execution_count": 24,
   "id": "6dcec2d6",
   "metadata": {},
   "outputs": [
    {
     "name": "stdout",
     "output_type": "stream",
     "text": [
      "{1, 2, 3, 6, 7, 8}\n"
     ]
    }
   ],
   "source": [
    "print(A ^ B)"
   ]
  },
  {
   "cell_type": "code",
   "execution_count": 25,
   "id": "78eae63a",
   "metadata": {},
   "outputs": [
    {
     "data": {
      "text/plain": [
       "{1, 2, 3, 6, 7, 8}"
      ]
     },
     "execution_count": 25,
     "metadata": {},
     "output_type": "execute_result"
    }
   ],
   "source": [
    "A.symmetric_difference(B)"
   ]
  },
  {
   "cell_type": "code",
   "execution_count": 26,
   "id": "0c0bcef6",
   "metadata": {},
   "outputs": [
    {
     "data": {
      "text/plain": [
       "{1, 2, 3, 6, 7, 8}"
      ]
     },
     "execution_count": 26,
     "metadata": {},
     "output_type": "execute_result"
    }
   ],
   "source": [
    "B.symmetric_difference(A)"
   ]
  },
  {
   "cell_type": "markdown",
   "id": "9df16f65",
   "metadata": {},
   "source": [
    "### 3.2 Numpy"
   ]
  },
  {
   "cell_type": "markdown",
   "id": "77b0db01",
   "metadata": {},
   "source": [
    "This package helps to apply and perform various numerical operations on dataframe"
   ]
  },
  {
   "cell_type": "markdown",
   "id": "69791b0e",
   "metadata": {},
   "source": [
    "### 3.3 Pandas"
   ]
  },
  {
   "cell_type": "markdown",
   "id": "e87b8a56",
   "metadata": {},
   "source": [
    "This package helps to transform and combine dataframe in different formats for analysis"
   ]
  },
  {
   "cell_type": "markdown",
   "id": "b309e52b",
   "metadata": {},
   "source": [
    "### 3.4 Visualization - Matplotlib, Seaborn"
   ]
  },
  {
   "cell_type": "markdown",
   "id": "6270ef3c",
   "metadata": {},
   "source": [
    "This help to visualize the data for analysis"
   ]
  },
  {
   "cell_type": "code",
   "execution_count": null,
   "id": "74b78d34",
   "metadata": {},
   "outputs": [],
   "source": []
  }
 ],
 "metadata": {
  "kernelspec": {
   "display_name": "Python 3 (ipykernel)",
   "language": "python",
   "name": "python3"
  },
  "language_info": {
   "codemirror_mode": {
    "name": "ipython",
    "version": 3
   },
   "file_extension": ".py",
   "mimetype": "text/x-python",
   "name": "python",
   "nbconvert_exporter": "python",
   "pygments_lexer": "ipython3",
   "version": "3.10.8"
  }
 },
 "nbformat": 4,
 "nbformat_minor": 5
}
